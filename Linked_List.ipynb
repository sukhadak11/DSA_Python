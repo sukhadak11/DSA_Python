{
  "nbformat": 4,
  "nbformat_minor": 0,
  "metadata": {
    "colab": {
      "provenance": [],
      "authorship_tag": "ABX9TyP3BNDdoE1ZWIN3MvcKon05",
      "include_colab_link": true
    },
    "kernelspec": {
      "name": "python3",
      "display_name": "Python 3"
    },
    "language_info": {
      "name": "python"
    }
  },
  "cells": [
    {
      "cell_type": "markdown",
      "metadata": {
        "id": "view-in-github",
        "colab_type": "text"
      },
      "source": [
        "<a href=\"https://colab.research.google.com/github/sukhadak11/DSA_Python/blob/main/Linked_List.ipynb\" target=\"_parent\"><img src=\"https://colab.research.google.com/assets/colab-badge.svg\" alt=\"Open In Colab\"/></a>"
      ]
    },
    {
      "cell_type": "code",
      "execution_count": null,
      "metadata": {
        "id": "4mgophxCSkla"
      },
      "outputs": [],
      "source": [
        "class Node:\n",
        "\n",
        "  def __init__(self,value):\n",
        "    self.data = value  # Indent this line\n",
        "    self.next = None"
      ]
    },
    {
      "cell_type": "code",
      "source": [
        "class LinkedList:\n",
        "\n",
        "  def __init__(self):\n",
        "    #empty LL\n",
        "    self.head = None\n",
        "    # no. of nodes in the LL\n",
        "    self.n = 0\n",
        "\n",
        "  def  __len__(self):\n",
        "    return self.n\n",
        "\n",
        "  def insert_head(self,value):\n",
        "    #new node\n",
        "    new_node = Node(value)\n",
        "    #create connection\n",
        "    new_node.next = self.head\n",
        "    #reassign head\n",
        "    self.head = new_node\n",
        "    #increment n\n",
        "    self.n = self.n + 1\n",
        "\n",
        "  def __str__(self):\n",
        "    curr = self.head\n",
        "    result = \"\"\n",
        "    while curr:\n",
        "      result += str(curr.data) + \"->\"\n",
        "      curr = curr.next\n",
        "    return result[:-2]\n",
        "\n",
        "  def append(self,value):\n",
        "    new_node = Node(value)\n",
        "    if not self.head:\n",
        "      self.head = new_node\n",
        "      self.n = self.n+1\n",
        "      return\n",
        "\n",
        "      curr = self.head\n",
        "\n",
        "      while curr.next!=None:\n",
        "        curr = curr.next\n",
        "\n",
        "      curr.next = new.node\n",
        "      self.n = self.n+1\n",
        "\n",
        "  def insert_after(self,after,value):\n",
        "    new_node = Node(value)\n",
        "    curr = self.head\n",
        "\n",
        "    while curr !=None:\n",
        "      if curr.data==after:\n",
        "        break\n",
        "      curr = curr.next\n",
        "\n",
        "    if curr!=None:\n",
        "      new_node.next = curr.next\n",
        "      curr.next = new_node\n",
        "#curr=current\n",
        "    else:\n",
        "      return \"Item not found\"\n",
        "\n",
        "  def clear(self):\n",
        "    self.head=None\n",
        "    self.node=0\n",
        "\n",
        "  def delete_head(self):\n",
        "\n",
        "    if self.head == None:\n",
        "     self.head =self.head.next\n",
        "\n",
        "  def pop(self):\n",
        "    if self.head == None:\n",
        "      return 'None'\n",
        "    curr = self.head\n",
        "    if curr.next == None:\n",
        "      return self.delete_head()\n",
        "    while curr.next.next!=None:\n",
        "      curr = curr.next\n",
        "    curr.next = None\n",
        "    self.n = self.n-1\n",
        "\n",
        "  def search(self,item):\n",
        "    curr = self.head\n",
        "    pos = 0\n",
        "\n",
        "    while curr!=None:\n",
        "      if curr.data == item:\n",
        "        return pos\n",
        "      curr = curr.next\n",
        "      pos = pos + 1\n",
        "\n",
        "      return 'not found'\n",
        "\n",
        "\n",
        "  def __getitem__(self,index):\n",
        "    curr = self.head\n",
        "    pos = 0\n",
        "\n",
        "    while curr!=None:\n",
        "      if pos == index:\n",
        "        return curr.data\n",
        "      curr = curr.next\n",
        "      pos = pos + 1\n",
        "\n",
        "      return 'not found'\n",
        "\n",
        "\n",
        "\n",
        "\n"
      ],
      "metadata": {
        "id": "uOKKUbjrUFKB"
      },
      "execution_count": null,
      "outputs": []
    },
    {
      "cell_type": "code",
      "source": [
        "L=LinkedList()"
      ],
      "metadata": {
        "id": "0WTUsPLBVPoJ"
      },
      "execution_count": null,
      "outputs": []
    },
    {
      "cell_type": "code",
      "source": [
        "print(L.head)"
      ],
      "metadata": {
        "colab": {
          "base_uri": "https://localhost:8080/"
        },
        "id": "gwvQys9oVUWm",
        "outputId": "ce38ff01-2331-4caa-accd-832cbb69ac61"
      },
      "execution_count": null,
      "outputs": [
        {
          "output_type": "stream",
          "name": "stdout",
          "text": [
            "None\n"
          ]
        }
      ]
    },
    {
      "cell_type": "code",
      "source": [
        "len(L)"
      ],
      "metadata": {
        "colab": {
          "base_uri": "https://localhost:8080/"
        },
        "id": "_K4dsVAuVZH2",
        "outputId": "ba390e77-a32a-4805-d7f2-10244d5430a7"
      },
      "execution_count": null,
      "outputs": [
        {
          "output_type": "execute_result",
          "data": {
            "text/plain": [
              "0"
            ]
          },
          "metadata": {},
          "execution_count": 72
        }
      ]
    },
    {
      "cell_type": "code",
      "source": [
        "L.insert_head(1)\n",
        "L.insert_head(2)\n",
        "L.insert_head(3)\n",
        "L.insert_head(4)\n",
        "L.insert_head(5)"
      ],
      "metadata": {
        "id": "rg0pX0OfV3AC"
      },
      "execution_count": null,
      "outputs": []
    },
    {
      "cell_type": "code",
      "source": [
        "print(L)"
      ],
      "metadata": {
        "colab": {
          "base_uri": "https://localhost:8080/"
        },
        "id": "I8jPaW-8YeyE",
        "outputId": "f25c6979-48d6-46d6-9122-ebf36296714d"
      },
      "execution_count": null,
      "outputs": [
        {
          "output_type": "stream",
          "name": "stdout",
          "text": [
            "5->4->3->2->1\n"
          ]
        }
      ]
    },
    {
      "cell_type": "code",
      "source": [
        "L.append(6)"
      ],
      "metadata": {
        "id": "arKZg9VRZphb"
      },
      "execution_count": null,
      "outputs": []
    },
    {
      "cell_type": "code",
      "source": [
        "L.insert_after(5,7)"
      ],
      "metadata": {
        "id": "yn49Qo9qcBbH"
      },
      "execution_count": null,
      "outputs": []
    },
    {
      "cell_type": "code",
      "source": [
        "L.clear()"
      ],
      "metadata": {
        "id": "NPfcpJIVexLm"
      },
      "execution_count": null,
      "outputs": []
    },
    {
      "cell_type": "code",
      "source": [
        "L.delete_head()"
      ],
      "metadata": {
        "id": "o09UQTkGsaGK"
      },
      "execution_count": null,
      "outputs": []
    },
    {
      "cell_type": "code",
      "source": [
        "print(L)"
      ],
      "metadata": {
        "colab": {
          "base_uri": "https://localhost:8080/"
        },
        "id": "Sivljb1Ru27V",
        "outputId": "5e17bed0-9369-408f-e1f8-30adacceef03"
      },
      "execution_count": null,
      "outputs": [
        {
          "output_type": "stream",
          "name": "stdout",
          "text": [
            "5\n"
          ]
        }
      ]
    },
    {
      "cell_type": "code",
      "source": [
        "L.pop()"
      ],
      "metadata": {
        "id": "oTTyXTSwwOgL"
      },
      "execution_count": null,
      "outputs": []
    },
    {
      "cell_type": "code",
      "source": [
        "L.search(3)"
      ],
      "metadata": {
        "id": "vaSciNhUw7Ab",
        "colab": {
          "base_uri": "https://localhost:8080/",
          "height": 36
        },
        "outputId": "083b1fc9-4a79-4e86-e39d-42e5cf90455a"
      },
      "execution_count": null,
      "outputs": [
        {
          "output_type": "execute_result",
          "data": {
            "text/plain": [
              "'not found'"
            ],
            "application/vnd.google.colaboratory.intrinsic+json": {
              "type": "string"
            }
          },
          "metadata": {},
          "execution_count": 20
        }
      ]
    },
    {
      "cell_type": "code",
      "source": [
        "L[3]"
      ],
      "metadata": {
        "colab": {
          "base_uri": "https://localhost:8080/",
          "height": 36
        },
        "id": "FOop_Rtm1Lgz",
        "outputId": "67a41db1-26f6-4a4a-c035-cfab62238e0b"
      },
      "execution_count": null,
      "outputs": [
        {
          "output_type": "execute_result",
          "data": {
            "text/plain": [
              "'not found'"
            ],
            "application/vnd.google.colaboratory.intrinsic+json": {
              "type": "string"
            }
          },
          "metadata": {},
          "execution_count": 21
        }
      ]
    },
    {
      "cell_type": "code",
      "source": [
        "L[2]"
      ],
      "metadata": {
        "id": "gM13DPDS20Kg",
        "outputId": "30256bf8-51c8-4f36-aff0-17341a36c5ec",
        "colab": {
          "base_uri": "https://localhost:8080/",
          "height": 36
        }
      },
      "execution_count": null,
      "outputs": [
        {
          "output_type": "execute_result",
          "data": {
            "text/plain": [
              "'not found'"
            ],
            "application/vnd.google.colaboratory.intrinsic+json": {
              "type": "string"
            }
          },
          "metadata": {},
          "execution_count": 22
        }
      ]
    },
    {
      "cell_type": "code",
      "source": [],
      "metadata": {
        "id": "HaTYka05215B"
      },
      "execution_count": null,
      "outputs": []
    }
  ]
}