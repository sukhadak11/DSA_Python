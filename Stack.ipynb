{
  "nbformat": 4,
  "nbformat_minor": 0,
  "metadata": {
    "colab": {
      "provenance": [],
      "authorship_tag": "ABX9TyNgABlEludRCE3b8WZXCy1B",
      "include_colab_link": true
    },
    "kernelspec": {
      "name": "python3",
      "display_name": "Python 3"
    },
    "language_info": {
      "name": "python"
    }
  },
  "cells": [
    {
      "cell_type": "markdown",
      "metadata": {
        "id": "view-in-github",
        "colab_type": "text"
      },
      "source": [
        "<a href=\"https://colab.research.google.com/github/sukhadak11/DSA_Python/blob/main/Stack.ipynb\" target=\"_parent\"><img src=\"https://colab.research.google.com/assets/colab-badge.svg\" alt=\"Open In Colab\"/></a>"
      ]
    },
    {
      "cell_type": "code",
      "execution_count": null,
      "metadata": {
        "id": "aFdvfzRID2zJ"
      },
      "outputs": [],
      "source": [
        "class Node:\n",
        "  def __init__(self,value):\n",
        "    self.data = value\n",
        "    self.next = None"
      ]
    },
    {
      "cell_type": "code",
      "source": [
        "class Stack:\n",
        "\n",
        "  def __init__(self):\n",
        "    self.top = None\n",
        "\n",
        "  def isempty(self):\n",
        "      return self.top == None\n",
        "\n",
        "  def push(self,value):\n",
        "\n",
        "    new_node = Node(value)\n",
        "\n",
        "    new_node.next = self.top\n",
        "\n",
        "    self.top = new_node\n",
        "\n",
        "  def peek(self):\n",
        "    if(self.isempty()):\n",
        "      return \"stack empty\"\n",
        "    else:\n",
        "      return self.top.data\n",
        "\n",
        "  def pop(self):\n",
        "    if(self.isempty()):\n",
        "      return \"stack empty\"\n",
        "    else:\n",
        "      data = self.top.data\n",
        "      self.top = self.top.next\n",
        "      return data\n",
        "\n",
        "\n",
        "\n",
        "  def traverse(self):\n",
        "      temp = self.top\n",
        "\n",
        "      while  temp!= None:\n",
        "        print(temp.data)\n",
        "        temp = temp.next"
      ],
      "metadata": {
        "id": "mgwAT95nFoCQ"
      },
      "execution_count": null,
      "outputs": []
    },
    {
      "cell_type": "code",
      "source": [
        "s=Stack()"
      ],
      "metadata": {
        "id": "tID0q1g_EyOt"
      },
      "execution_count": null,
      "outputs": []
    },
    {
      "cell_type": "code",
      "source": [
        "s.isempty()"
      ],
      "metadata": {
        "colab": {
          "base_uri": "https://localhost:8080/"
        },
        "id": "QBfd4st2E9Q2",
        "outputId": "46c6d4a0-681c-4fdc-e605-e3f1a139bcd5"
      },
      "execution_count": null,
      "outputs": [
        {
          "output_type": "execute_result",
          "data": {
            "text/plain": [
              "True"
            ]
          },
          "metadata": {},
          "execution_count": 18
        }
      ]
    },
    {
      "cell_type": "code",
      "source": [
        "s.push(1)"
      ],
      "metadata": {
        "id": "FEzMJOnoE_fn"
      },
      "execution_count": null,
      "outputs": []
    },
    {
      "cell_type": "code",
      "source": [
        "s.isempty()"
      ],
      "metadata": {
        "colab": {
          "base_uri": "https://localhost:8080/"
        },
        "id": "JvF61R2TFUaf",
        "outputId": "aad425ed-f51f-4116-8549-dff174e10cb7"
      },
      "execution_count": null,
      "outputs": [
        {
          "output_type": "execute_result",
          "data": {
            "text/plain": [
              "False"
            ]
          },
          "metadata": {},
          "execution_count": 20
        }
      ]
    },
    {
      "cell_type": "code",
      "source": [
        "s.push(2)\n",
        "s.push(3)\n",
        "s.push(4)"
      ],
      "metadata": {
        "id": "3TcGF51kF3jx"
      },
      "execution_count": null,
      "outputs": []
    },
    {
      "cell_type": "code",
      "source": [
        "s.traverse()"
      ],
      "metadata": {
        "colab": {
          "base_uri": "https://localhost:8080/"
        },
        "id": "T57_bWN5HFF5",
        "outputId": "38216bed-555c-4f3b-a900-2da66da73420"
      },
      "execution_count": null,
      "outputs": [
        {
          "output_type": "stream",
          "name": "stdout",
          "text": [
            "4\n",
            "3\n",
            "2\n"
          ]
        }
      ]
    },
    {
      "cell_type": "code",
      "source": [
        "s.peek()"
      ],
      "metadata": {
        "colab": {
          "base_uri": "https://localhost:8080/",
          "height": 36
        },
        "id": "x6V6l2OrHIbB",
        "outputId": "0ee5fa29-7a63-4da7-b26f-06cc0273400f"
      },
      "execution_count": null,
      "outputs": [
        {
          "output_type": "execute_result",
          "data": {
            "text/plain": [
              "'stack empty'"
            ],
            "application/vnd.google.colaboratory.intrinsic+json": {
              "type": "string"
            }
          },
          "metadata": {},
          "execution_count": 39
        }
      ]
    },
    {
      "cell_type": "code",
      "source": [
        "s.pop()"
      ],
      "metadata": {
        "id": "ZZ7kEKYPICay"
      },
      "execution_count": null,
      "outputs": []
    },
    {
      "cell_type": "code",
      "source": [
        "def reverse_string(text):\n",
        "  s = Stack()\n",
        "  for i in text:\n",
        "    s.push(i)\n",
        "  rstr = \"\"\n",
        "  while not s.isempty():\n",
        "    rstr += s.pop()\n",
        "  return rstr"
      ],
      "metadata": {
        "id": "bCxOQHaeIEI7"
      },
      "execution_count": null,
      "outputs": []
    },
    {
      "cell_type": "code",
      "source": [
        "print(reverse_string(\"hello\"))\n"
      ],
      "metadata": {
        "colab": {
          "base_uri": "https://localhost:8080/"
        },
        "id": "_y4aVN-QJwTb",
        "outputId": "98eb1f57-6c18-43d5-f460-668310c52e25"
      },
      "execution_count": null,
      "outputs": [
        {
          "output_type": "stream",
          "name": "stdout",
          "text": [
            "olleh\n"
          ]
        }
      ]
    },
    {
      "cell_type": "code",
      "source": [
        "def text_editor(text,pattern):\n",
        "  u = Stack()\n",
        "  r = Stack()\n",
        "  for t in text:\n",
        "    u.push(t)\n",
        "\n",
        "  for t in pattern:\n",
        "\n",
        "    if t == 'u':\n",
        "      data = u.pop()\n",
        "      r.push(data)\n",
        "    else:\n",
        "      data = r.pop()\n",
        "      u.push(data)\n",
        "\n",
        "  result = \"\"\n",
        "  while not u.isempty():\n",
        "    result += u.pop()\n",
        "\n",
        "  return result\n",
        "\n"
      ],
      "metadata": {
        "id": "Dpx983wfJ6Pv"
      },
      "execution_count": null,
      "outputs": []
    },
    {
      "cell_type": "code",
      "source": [
        "print(text_editor(\"hello\",'uur'))"
      ],
      "metadata": {
        "colab": {
          "base_uri": "https://localhost:8080/"
        },
        "id": "DgvqFcjyMD_Z",
        "outputId": "5cf69b3e-47dc-41b2-a976-dc8feb686482"
      },
      "execution_count": null,
      "outputs": [
        {
          "output_type": "stream",
          "name": "stdout",
          "text": [
            "lleh\n"
          ]
        }
      ]
    },
    {
      "cell_type": "code",
      "source": [
        "L = [\n",
        "     [0,0,1,1],\n",
        "     [0,0,1,0],\n",
        "     [0,0,0,0],\n",
        "     [0,0,1,0]\n",
        "]"
      ],
      "metadata": {
        "id": "8zHXL9QmMGlb"
      },
      "execution_count": null,
      "outputs": []
    },
    {
      "cell_type": "code",
      "source": [
        "class Stack:\n",
        "    def __init__(self):\n",
        "        self.items = []\n",
        "\n",
        "    def push(self, item):\n",
        "        self.items.append(item)\n",
        "\n",
        "    def pop(self):\n",
        "        if not self.isempty():\n",
        "            return self.items.pop()\n",
        "\n",
        "    def peek(self):\n",
        "        if not self.isempty():\n",
        "            return self.items[-1]\n",
        "\n",
        "    def isempty(self):\n",
        "        return len(self.items) == 0\n",
        "\n",
        "    def size(self): # Add a size method to the Stack class\n",
        "        return len(self.items)\n",
        "\n",
        "def find_the_celeb(L):\n",
        "  s = Stack()\n",
        "  for i in range(len(L)):\n",
        "    s.push(i)\n",
        "\n",
        "    while s.size() >= 2:\n",
        "      a = s.pop()\n",
        "      b = s.pop()\n",
        "\n",
        "      if L[a][b] == 0:\n",
        "        s.push(a)\n",
        "      else:\n",
        "        s.push(b)\n",
        "\n",
        "  celeb = s.pop()\n",
        "\n",
        "  for a in range(len(L)):\n",
        "\n",
        "    if a != celeb:\n",
        "      if L[a][celeb] == 0 or L[celeb][a] == 1:\n",
        "        print('no one celebrity')\n",
        "        return\n",
        "  print('the celeb is',celeb)"
      ],
      "metadata": {
        "id": "W94tM8IdOYmh"
      },
      "execution_count": null,
      "outputs": []
    },
    {
      "cell_type": "code",
      "source": [
        "find_the_celeb(L)"
      ],
      "metadata": {
        "colab": {
          "base_uri": "https://localhost:8080/"
        },
        "id": "2xXKCu5ZQMtf",
        "outputId": "a4da636b-1d8b-4d69-9ff7-c321789130c6"
      },
      "execution_count": null,
      "outputs": [
        {
          "output_type": "stream",
          "name": "stdout",
          "text": [
            "the celeb is 2\n"
          ]
        }
      ]
    },
    {
      "cell_type": "code",
      "source": [],
      "metadata": {
        "id": "VHBYP0xWQu3f"
      },
      "execution_count": null,
      "outputs": []
    }
  ]
}