{
  "nbformat": 4,
  "nbformat_minor": 0,
  "metadata": {
    "colab": {
      "provenance": [],
      "authorship_tag": "ABX9TyNk8QJd5TMPnSwr05u0M8WN",
      "include_colab_link": true
    },
    "kernelspec": {
      "name": "python3",
      "display_name": "Python 3"
    },
    "language_info": {
      "name": "python"
    }
  },
  "cells": [
    {
      "cell_type": "markdown",
      "metadata": {
        "id": "view-in-github",
        "colab_type": "text"
      },
      "source": [
        "<a href=\"https://colab.research.google.com/github/sukhadak11/DSA_Python/blob/main/Array.ipynb\" target=\"_parent\"><img src=\"https://colab.research.google.com/assets/colab-badge.svg\" alt=\"Open In Colab\"/></a>"
      ]
    },
    {
      "cell_type": "markdown",
      "source": [
        "DS Arryas\n"
      ],
      "metadata": {
        "id": "QbNI4VQCx3yY"
      }
    },
    {
      "cell_type": "code",
      "source": [
        "from google.colab import drive\n",
        "drive.mount('/content/drive')"
      ],
      "metadata": {
        "id": "gW7K8zwlzTQU"
      },
      "execution_count": null,
      "outputs": []
    },
    {
      "cell_type": "code",
      "source": [
        "import ctypes"
      ],
      "metadata": {
        "id": "ARmwAhYqx7DW"
      },
      "execution_count": null,
      "outputs": []
    },
    {
      "cell_type": "code",
      "source": [
        "class MeraList:\n",
        "\n",
        "  def __init__(self):\n",
        "    self.size =1\n",
        "    self.n=0\n",
        "    self.A=self.__make_array(self.size)\n",
        "\n",
        "  def __len__(self):\n",
        "    return self.n\n",
        "\n",
        "  def __str__(self):\n",
        "    result=\"\"\n",
        "    for i in range(self.n):\n",
        "      result+=str(self.A[i])+','\n",
        "\n",
        "    return '[' + result[:-2] + ']'\n",
        "\n",
        "\n",
        "  def append(self,item):\n",
        "    if self.n==self.size:\n",
        "      self.__resize(self.size*2)\n",
        "\n",
        "      # append\n",
        "    self.A[self.n]=item\n",
        "    self.n+=1\n",
        "\n",
        "    def __resize(self,new_capacity):\n",
        "      B=self.__make_array(new_capacity)\n",
        "      self.size=new_capacity\n",
        "      for i in range(self.n):\n",
        "        B[i]=self.A[i]\n",
        "      self.A=B\n",
        "\n",
        "\n",
        "  def __make_array(self,capacity):\n",
        "    return (capacity*ctypes.py_object)()"
      ],
      "metadata": {
        "id": "VLV_hBxiyUJm"
      },
      "execution_count": null,
      "outputs": []
    },
    {
      "cell_type": "code",
      "source": [
        "L=MeraList()"
      ],
      "metadata": {
        "id": "sAdBiF_ky7f1"
      },
      "execution_count": null,
      "outputs": []
    },
    {
      "cell_type": "code",
      "source": [
        "L.append(\"hello\")\n",
        "L.append(True)\n",
        "L.append(3.14)"
      ],
      "metadata": {
        "colab": {
          "base_uri": "https://localhost:8080/",
          "height": 297
        },
        "id": "CFTegBtzP3Sb",
        "outputId": "29316d2f-819e-45f6-f28c-225675064f80"
      },
      "execution_count": null,
      "outputs": [
        {
          "output_type": "error",
          "ename": "AttributeError",
          "evalue": "'MeraList' object has no attribute '_MeraList__resize'",
          "traceback": [
            "\u001b[0;31m---------------------------------------------------------------------------\u001b[0m",
            "\u001b[0;31mAttributeError\u001b[0m                            Traceback (most recent call last)",
            "\u001b[0;32m<ipython-input-59-1176c7b5d426>\u001b[0m in \u001b[0;36m<cell line: 1>\u001b[0;34m()\u001b[0m\n\u001b[0;32m----> 1\u001b[0;31m \u001b[0mL\u001b[0m\u001b[0;34m.\u001b[0m\u001b[0mappend\u001b[0m\u001b[0;34m(\u001b[0m\u001b[0;34m\"hello\"\u001b[0m\u001b[0;34m)\u001b[0m\u001b[0;34m\u001b[0m\u001b[0;34m\u001b[0m\u001b[0m\n\u001b[0m\u001b[1;32m      2\u001b[0m \u001b[0mL\u001b[0m\u001b[0;34m.\u001b[0m\u001b[0mappend\u001b[0m\u001b[0;34m(\u001b[0m\u001b[0;32mTrue\u001b[0m\u001b[0;34m)\u001b[0m\u001b[0;34m\u001b[0m\u001b[0;34m\u001b[0m\u001b[0m\n\u001b[1;32m      3\u001b[0m \u001b[0mL\u001b[0m\u001b[0;34m.\u001b[0m\u001b[0mappend\u001b[0m\u001b[0;34m(\u001b[0m\u001b[0;36m3.14\u001b[0m\u001b[0;34m)\u001b[0m\u001b[0;34m\u001b[0m\u001b[0;34m\u001b[0m\u001b[0m\n",
            "\u001b[0;32m<ipython-input-56-f393dde94246>\u001b[0m in \u001b[0;36mappend\u001b[0;34m(self, item)\u001b[0m\n\u001b[1;32m     19\u001b[0m   \u001b[0;32mdef\u001b[0m \u001b[0mappend\u001b[0m\u001b[0;34m(\u001b[0m\u001b[0mself\u001b[0m\u001b[0;34m,\u001b[0m\u001b[0mitem\u001b[0m\u001b[0;34m)\u001b[0m\u001b[0;34m:\u001b[0m\u001b[0;34m\u001b[0m\u001b[0;34m\u001b[0m\u001b[0m\n\u001b[1;32m     20\u001b[0m     \u001b[0;32mif\u001b[0m \u001b[0mself\u001b[0m\u001b[0;34m.\u001b[0m\u001b[0mn\u001b[0m\u001b[0;34m==\u001b[0m\u001b[0mself\u001b[0m\u001b[0;34m.\u001b[0m\u001b[0msize\u001b[0m\u001b[0;34m:\u001b[0m\u001b[0;34m\u001b[0m\u001b[0;34m\u001b[0m\u001b[0m\n\u001b[0;32m---> 21\u001b[0;31m       \u001b[0mself\u001b[0m\u001b[0;34m.\u001b[0m\u001b[0m__resize\u001b[0m\u001b[0;34m(\u001b[0m\u001b[0mself\u001b[0m\u001b[0;34m.\u001b[0m\u001b[0msize\u001b[0m\u001b[0;34m*\u001b[0m\u001b[0;36m2\u001b[0m\u001b[0;34m)\u001b[0m\u001b[0;34m\u001b[0m\u001b[0;34m\u001b[0m\u001b[0m\n\u001b[0m\u001b[1;32m     22\u001b[0m \u001b[0;34m\u001b[0m\u001b[0m\n\u001b[1;32m     23\u001b[0m       \u001b[0;31m# append\u001b[0m\u001b[0;34m\u001b[0m\u001b[0;34m\u001b[0m\u001b[0m\n",
            "\u001b[0;31mAttributeError\u001b[0m: 'MeraList' object has no attribute '_MeraList__resize'"
          ]
        }
      ]
    },
    {
      "cell_type": "code",
      "source": [
        "print(L)"
      ],
      "metadata": {
        "colab": {
          "base_uri": "https://localhost:8080/"
        },
        "id": "pWO0ZhQbQDI4",
        "outputId": "5597bb25-9d4e-4b58-8b09-1cd5705db3d6"
      },
      "execution_count": null,
      "outputs": [
        {
          "output_type": "stream",
          "name": "stdout",
          "text": [
            "[]\n"
          ]
        }
      ]
    },
    {
      "cell_type": "code",
      "source": [
        "print(L)"
      ],
      "metadata": {
        "colab": {
          "base_uri": "https://localhost:8080/"
        },
        "id": "slzB4fJ1y-lu",
        "outputId": "928e7b54-db2c-4197-de44-592f2a8482b9"
      },
      "execution_count": null,
      "outputs": [
        {
          "output_type": "stream",
          "name": "stdout",
          "text": [
            "[]\n"
          ]
        }
      ]
    },
    {
      "cell_type": "code",
      "source": [
        "from re import I\n",
        "import ctypes\n",
        "\n",
        "class MeraList:\n",
        "\n",
        "    def __init__(self):\n",
        "        self.size = 1\n",
        "        self.n = 0\n",
        "        self.A = self.__make_array(self.size)\n",
        "\n",
        "    def __len__(self):\n",
        "        return self.n\n",
        "\n",
        "    def __str__(self):\n",
        "        result = \"\"\n",
        "        for i in range(self.n):\n",
        "            result += str(self.A[i]) + ', '\n",
        "        return '[' + result[:-2] + ']'\n",
        "\n",
        "    def __getitem__(self,index):\n",
        "      if 0<=index<self.n:\n",
        "        return self.A[index]\n",
        "      else:\n",
        "        return 'indexerror '\n",
        "\n",
        "    def remove(self,item):\n",
        "      pos = self.find(item)\n",
        "\n",
        "      if type(pos) == int:\n",
        "        #delete\n",
        "        self.__delitem__(pos)\n",
        "      else:\n",
        "        return pos\n",
        "\n",
        "\n",
        "    def __delitem__(self,pos):\n",
        "      #delete\n",
        "      if 0<=pos<self.n:\n",
        "         for i in range(pos,self.n-1):\n",
        "           self.A[i] = self.A[i+1]\n",
        "\n",
        "         self.n = self.n -1\n",
        "\n",
        "    def append(self, item):\n",
        "        if self.n == self.size:\n",
        "            self.__resize(self.size * 2)\n",
        "\n",
        "        # append\n",
        "        self.A[self.n] = item\n",
        "        self.n += 1\n",
        "\n",
        "    def pop(self):\n",
        "      if self.n==0:\n",
        "        return 'empty list'\n",
        "\n",
        "      print(self.A[self.n-1])\n",
        "      self.n=self.n-1\n",
        "\n",
        "    def clear(self):\n",
        "      self.n=0\n",
        "      self.size=1\n",
        "\n",
        "    def find(self,item):\n",
        "\n",
        "      for i in range(self.n):\n",
        "        if self.A[i] == item:\n",
        "          return i\n",
        "      return 'ValueError'\n",
        "\n",
        "\n",
        "    def insert(self,pos,item):\n",
        "\n",
        "      if self.n == self.size:\n",
        "        self.__resize(self.size*2)\n",
        "\n",
        "      for i in range(self.n,pos,-1):\n",
        "        self.A[i] = self.A[i-1]\n",
        "\n",
        "      self.A[pos] = item\n",
        "      self.n = self.n + 1\n",
        "\n",
        "\n",
        "\n",
        "    def __resize(self, new_capacity):\n",
        "        B = self.__make_array(new_capacity)\n",
        "        for i in range(self.n):\n",
        "            B[i] = self.A[i]\n",
        "        self.A = B\n",
        "        self.size = new_capacity\n",
        "\n",
        "    def __make_array(self, capacity):\n",
        "        return (capacity * ctypes.py_object)()\n",
        "\n",
        "# Testing the MeraList class\n",
        "L = MeraList()\n",
        "L.append(\"hello\")\n",
        "L.append(2901)\n",
        "L.append(True)\n",
        "L.append(3.14)\n",
        "\n",
        "print(L)  # Output: [hello, 2901, True, 3.14]\n"
      ],
      "metadata": {
        "colab": {
          "base_uri": "https://localhost:8080/"
        },
        "id": "Hq7Pa-13NVcn",
        "outputId": "19d63866-1f0d-4d2b-f8d4-f0c4d2792fe2"
      },
      "execution_count": null,
      "outputs": [
        {
          "output_type": "stream",
          "name": "stdout",
          "text": [
            "[hello, 2901, True, 3.14]\n"
          ]
        }
      ]
    },
    {
      "cell_type": "code",
      "source": [
        "L.remove(2901)\n",
        "print(L)"
      ],
      "metadata": {
        "colab": {
          "base_uri": "https://localhost:8080/"
        },
        "id": "QkJ0hSV-GCXU",
        "outputId": "1b0a26d0-fcc4-49f5-e059-a5ac4998f6d8"
      },
      "execution_count": null,
      "outputs": [
        {
          "output_type": "stream",
          "name": "stdout",
          "text": [
            "[hello, True, 3.14]\n"
          ]
        }
      ]
    },
    {
      "cell_type": "code",
      "source": [
        "L.insert(3,500)\n",
        "print(L)"
      ],
      "metadata": {
        "colab": {
          "base_uri": "https://localhost:8080/"
        },
        "id": "GGfNNiXHBW0g",
        "outputId": "78da6f45-8ca6-49ac-e07c-95feee78f65c"
      },
      "execution_count": null,
      "outputs": [
        {
          "output_type": "stream",
          "name": "stdout",
          "text": [
            "[hello, 100, 100, 500, 100, 2901, True, 3.14]\n"
          ]
        }
      ]
    },
    {
      "cell_type": "code",
      "source": [
        "del L[1]\n",
        "print(L)"
      ],
      "metadata": {
        "colab": {
          "base_uri": "https://localhost:8080/"
        },
        "id": "3Vn5_Mt9EP2F",
        "outputId": "23d4cae2-3d29-4d76-8576-ef014702354a"
      },
      "execution_count": null,
      "outputs": [
        {
          "output_type": "stream",
          "name": "stdout",
          "text": [
            "[hello, True, 3.14]\n"
          ]
        }
      ]
    },
    {
      "cell_type": "code",
      "source": [
        "L.find(2901)"
      ],
      "metadata": {
        "colab": {
          "base_uri": "https://localhost:8080/"
        },
        "id": "5jJqgTOl-0bd",
        "outputId": "28ff25c5-59cb-44a7-8428-4b96d0559f3a"
      },
      "execution_count": null,
      "outputs": [
        {
          "output_type": "execute_result",
          "data": {
            "text/plain": [
              "1"
            ]
          },
          "metadata": {},
          "execution_count": 31
        }
      ]
    },
    {
      "cell_type": "code",
      "source": [
        "L.append(23)"
      ],
      "metadata": {
        "id": "mPAikGjrSWQ3"
      },
      "execution_count": null,
      "outputs": []
    },
    {
      "cell_type": "code",
      "source": [
        "L.clear()"
      ],
      "metadata": {
        "id": "x5wvuaMz8Rhn"
      },
      "execution_count": null,
      "outputs": []
    },
    {
      "cell_type": "code",
      "source": [
        "print(L)"
      ],
      "metadata": {
        "colab": {
          "base_uri": "https://localhost:8080/"
        },
        "id": "x4wB1UBLT6Xi",
        "outputId": "5a96df28-9232-4540-b79f-ce2532c5a7e7"
      },
      "execution_count": null,
      "outputs": [
        {
          "output_type": "stream",
          "name": "stdout",
          "text": [
            "[]\n"
          ]
        }
      ]
    },
    {
      "cell_type": "code",
      "source": [
        "L[0]"
      ],
      "metadata": {
        "id": "b6OIh9ccT_f6",
        "colab": {
          "base_uri": "https://localhost:8080/",
          "height": 36
        },
        "outputId": "df10c0b8-019b-4d08-b6ec-081a3c732c7b"
      },
      "execution_count": null,
      "outputs": [
        {
          "output_type": "execute_result",
          "data": {
            "text/plain": [
              "'hello'"
            ],
            "application/vnd.google.colaboratory.intrinsic+json": {
              "type": "string"
            }
          },
          "metadata": {},
          "execution_count": 18
        }
      ]
    },
    {
      "cell_type": "code",
      "source": [
        "L.pop()\n",
        "print(L)"
      ],
      "metadata": {
        "colab": {
          "base_uri": "https://localhost:8080/"
        },
        "id": "dde613W37fbn",
        "outputId": "2a6b2cc6-db6f-455a-a531-2d2ca47d12a0"
      },
      "execution_count": null,
      "outputs": [
        {
          "output_type": "stream",
          "name": "stdout",
          "text": [
            "[10]\n"
          ]
        }
      ]
    },
    {
      "cell_type": "code",
      "source": [
        " L=[10,20,30]"
      ],
      "metadata": {
        "id": "xUzO0iLB5wtx"
      },
      "execution_count": null,
      "outputs": []
    },
    {
      "cell_type": "code",
      "source": [
        "L.pop()"
      ],
      "metadata": {
        "colab": {
          "base_uri": "https://localhost:8080/"
        },
        "id": "EIgLkUQH6Apz",
        "outputId": "e3de7e89-031d-43ab-bc98-b01ea00bd5b7"
      },
      "execution_count": null,
      "outputs": [
        {
          "output_type": "execute_result",
          "data": {
            "text/plain": [
              "30"
            ]
          },
          "metadata": {},
          "execution_count": 13
        }
      ]
    },
    {
      "cell_type": "code",
      "source": [
        "L"
      ],
      "metadata": {
        "colab": {
          "base_uri": "https://localhost:8080/"
        },
        "id": "yWl0MRZn6ZSL",
        "outputId": "ffa85c73-ac87-42e7-8b17-b6d4e4966b38"
      },
      "execution_count": null,
      "outputs": [
        {
          "output_type": "execute_result",
          "data": {
            "text/plain": [
              "[10, 20]"
            ]
          },
          "metadata": {},
          "execution_count": 14
        }
      ]
    },
    {
      "cell_type": "code",
      "source": [],
      "metadata": {
        "id": "LgWDYIrY6beg"
      },
      "execution_count": null,
      "outputs": []
    }
  ]
}